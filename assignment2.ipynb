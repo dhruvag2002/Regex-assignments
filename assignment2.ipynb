{
 "cells": [
  {
   "cell_type": "code",
   "execution_count": 3,
   "id": "bb441dff",
   "metadata": {},
   "outputs": [
    {
     "name": "stdout",
     "output_type": "stream",
     "text": [
      "Enter the input: hello user hi user\n",
      "hello user hi "
     ]
    }
   ],
   "source": [
    "#take a input from use if input is strint then get all the unique word from that string\n",
    "#unique=no duplicate word\n",
    "#hi user hello user\n",
    "#output=hi user hello \n",
    "\n",
    "\n",
    "x=input(\"Enter the input: \")\n",
    "l4=[]\n",
    "l5=[]\n",
    "\n",
    "f=''\n",
    "for i in range(0,len(x)):\n",
    "    if(x[i]!=' '):\n",
    "        f=f+x[i]\n",
    "    else:\n",
    "        l4.append(f)\n",
    "        f=''\n",
    "l4.append(f)\n",
    "\n",
    "k=len(l4)\n",
    "for i in range(0,k):\n",
    "    for j in range(i+1,k):\n",
    "        if l4[i] == l4[j]:\n",
    "            l4[j] = 0\n",
    "\n",
    "for i in range(0,k):\n",
    "    if(l4[i]!=0):\n",
    "        l5.append(l4[i])\n",
    "\n",
    "l5\n",
    "\n",
    "for i in range(0,len(l5)):\n",
    "    print(l5[i],end=\" \")\n"
   ]
  },
  {
   "cell_type": "code",
   "execution_count": null,
   "id": "a8371fb2",
   "metadata": {},
   "outputs": [],
   "source": [
    "# whether a string is a pallindrome using for loop\n",
    "# take input from user and count how many vowels are there:\n",
    "#     1 total count of vowels\n",
    "#     2 take a input from a user and count how many individual vowels are there\n",
    "#     3 input from the user wherever a vowel mile so replace with '#'"
   ]
  },
  {
   "cell_type": "code",
   "execution_count": 2,
   "id": "93180c2a",
   "metadata": {},
   "outputs": [
    {
     "name": "stdout",
     "output_type": "stream",
     "text": [
      "its palidrome\n"
     ]
    }
   ],
   "source": [
    "name='goog'\n",
    "a=len(name)//2\n",
    "m=0\n",
    "for i in range(0,a):\n",
    "    if(name[i]==name[-(i+1)]):\n",
    "        m=m+1\n",
    "\n",
    "if(m==a):\n",
    "    print(\"its palidrome\")\n",
    "else:\n",
    "    print(\"not palidrome\")"
   ]
  },
  {
   "cell_type": "code",
   "execution_count": 13,
   "id": "b53fd26b",
   "metadata": {},
   "outputs": [
    {
     "name": "stdout",
     "output_type": "stream",
     "text": [
      "Enter the input: hello\n",
      "h#ll# \n",
      "2 0 1 0 1 0\n"
     ]
    }
   ],
   "source": [
    "d1=input(\"Enter the input: \")\n",
    "q=[]\n",
    "\n",
    "for i in range(0,len(d1)):\n",
    "    q.append(d1[i])\n",
    "\n",
    "\n",
    "\n",
    "z=0\n",
    "#z=number of vowels\n",
    "\n",
    "a1=0\n",
    "a2=0\n",
    "a3=0\n",
    "a4=0\n",
    "a5=0\n",
    "for i in range(0,len(q)):\n",
    "    if(q[i]=='a' or q[i]=='e' or q[i]=='i' or q[i]=='o' or q[i]=='u'):\n",
    "        z=z+1\n",
    "        if(q[i]=='a'):\n",
    "            a1+=1\n",
    "        elif(q[i]=='e'):\n",
    "            a2+=1\n",
    "        elif(q[i]=='i'):\n",
    "            a3+=1\n",
    "        elif(q[i]=='o'):\n",
    "            a4+=1\n",
    "        else:\n",
    "            a5+=1\n",
    "        q[i]='#'\n",
    "        \n",
    "for i in range(0,len(q)):\n",
    "    print(q[i],end=\"\")\n",
    "print(\" \")\n",
    "print(z,a1,a2,a3,a4,a5)"
   ]
  },
  {
   "cell_type": "code",
   "execution_count": null,
   "id": "d995e4c6",
   "metadata": {},
   "outputs": [],
   "source": []
  }
 ],
 "metadata": {
  "kernelspec": {
   "display_name": "Python 3 (ipykernel)",
   "language": "python",
   "name": "python3"
  },
  "language_info": {
   "codemirror_mode": {
    "name": "ipython",
    "version": 3
   },
   "file_extension": ".py",
   "mimetype": "text/x-python",
   "name": "python",
   "nbconvert_exporter": "python",
   "pygments_lexer": "ipython3",
   "version": "3.9.12"
  }
 },
 "nbformat": 4,
 "nbformat_minor": 5
}
