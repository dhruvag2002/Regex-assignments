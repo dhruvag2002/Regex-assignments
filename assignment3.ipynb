{
 "cells": [
  {
   "cell_type": "code",
   "execution_count": 1,
   "id": "10fcb29f",
   "metadata": {},
   "outputs": [
    {
     "name": "stdout",
     "output_type": "stream",
     "text": [
      "      *  \n",
      "    * * *  \n",
      "  * * * * *  \n",
      "* * * * * * *  \n"
     ]
    }
   ],
   "source": [
    "#       *\n",
    "#     * * *\n",
    "#   * * * * *\n",
    "# * * * * * * *\n",
    "\n",
    "\n",
    "for rows in range(0,4):\n",
    "    for column in range(1,-(rows)+4):\n",
    "        print(' ',end=\" \")\n",
    "        \n",
    "    for column in range(-(rows)+4,4):\n",
    "        print('*',end=\" \")\n",
    "    \n",
    "    for column in range(0,rows+1):\n",
    "        print('*',end=\" \")\n",
    "    \n",
    "    print(\" \")\n",
    "\n"
   ]
  },
  {
   "cell_type": "code",
   "execution_count": 2,
   "id": "07f16aaf",
   "metadata": {},
   "outputs": [
    {
     "name": "stdout",
     "output_type": "stream",
     "text": [
      "Enter the input: harshsingh\n"
     ]
    },
    {
     "data": {
      "text/plain": [
       "{'h': 3, 'a': 1, 'r': 1, 's': 2, 'i': 1, 'n': 1, 'g': 1}"
      ]
     },
     "execution_count": 2,
     "metadata": {},
     "output_type": "execute_result"
    }
   ],
   "source": [
    "#take a input from the user and count the character and put it into the dictionary\n",
    "\n",
    "a=input(\"Enter the input: \")\n",
    "d1={}\n",
    "for i in range(0,len(a)):\n",
    "    x=1\n",
    "    m=0\n",
    "    for j in range(i+1,len(a)):\n",
    "        if(a[i]==a[j]):\n",
    "            x=x+1\n",
    "    for key in d1:\n",
    "        if(key==a[i]):\n",
    "            m=m+1\n",
    "    if(m==0):\n",
    "        d1[a[i]]=x\n",
    "d1"
   ]
  },
  {
   "cell_type": "code",
   "execution_count": 3,
   "id": "cd4e9612",
   "metadata": {},
   "outputs": [
    {
     "name": "stdout",
     "output_type": "stream",
     "text": [
      "Enter the input: h8fgH@5\n",
      "Its exist here\n"
     ]
    }
   ],
   "source": [
    "#take a input from the user  A-P->1  c-z->1  1 number 0-9 hona chiaye @,#,!\n",
    "\n",
    "b=input(\"Enter the input: \")\n",
    "\n",
    "a1=0\n",
    "a2=0\n",
    "a3=0\n",
    "a4=0\n",
    "\n",
    "for i in range(0,len(b)):\n",
    "    \n",
    "    if(ord(b[i])>=48 and ord(b[i])<=57):\n",
    "        a3+=1\n",
    "    elif(ord(b[i])>=65 and ord(b[i])<=80):\n",
    "        a1+=1\n",
    "    elif(ord(b[i])>=99 and ord(b[i])<=122):\n",
    "        a2+=1\n",
    "    elif(b[i]=='@' or b[i]=='#'or b[i]=='!'):\n",
    "        a4+=1\n",
    "\n",
    "if(a1>0 and a2>0 and a3>0 and a4>0):\n",
    "    print(\"Its exist here\")\n",
    "else:\n",
    "    print(\"Not exist\")\n",
    "        \n",
    "#Here ord() used to convert given value in ascii form   \n"
   ]
  },
  {
   "cell_type": "code",
   "execution_count": null,
   "id": "81c557a3",
   "metadata": {},
   "outputs": [],
   "source": []
  }
 ],
 "metadata": {
  "kernelspec": {
   "display_name": "Python 3 (ipykernel)",
   "language": "python",
   "name": "python3"
  },
  "language_info": {
   "codemirror_mode": {
    "name": "ipython",
    "version": 3
   },
   "file_extension": ".py",
   "mimetype": "text/x-python",
   "name": "python",
   "nbconvert_exporter": "python",
   "pygments_lexer": "ipython3",
   "version": "3.9.12"
  }
 },
 "nbformat": 4,
 "nbformat_minor": 5
}
