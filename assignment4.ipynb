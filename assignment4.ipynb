{
 "cells": [
  {
   "cell_type": "code",
   "execution_count": 6,
   "id": "04aaadc0",
   "metadata": {},
   "outputs": [
    {
     "name": "stdout",
     "output_type": "stream",
     "text": [
      "* * * *  \n",
      "*     *      \n",
      "*     *      \n",
      "* * * *  \n"
     ]
    }
   ],
   "source": [
    "# * * * *\n",
    "# *     *\n",
    "# *     *\n",
    "# * * * *\n",
    "\n",
    "for i in range(0,4):\n",
    "    for j in range(0,4):\n",
    "        if(i==0 or i==3):\n",
    "            print(\"*\",end=\" \")\n",
    "        elif(j==0 or j==3):\n",
    "            print(\"*\",end=\"     \")\n",
    "    print(\" \")\n"
   ]
  },
  {
   "cell_type": "code",
   "execution_count": 32,
   "id": "4ad68652",
   "metadata": {},
   "outputs": [
    {
     "name": "stdout",
     "output_type": "stream",
     "text": [
      "*  \n",
      "* *  \n",
      "* * *  \n",
      "* * * *  \n",
      "* * *  \n",
      "* *  \n",
      "*  \n",
      " \n"
     ]
    }
   ],
   "source": [
    "# *\n",
    "# * *\n",
    "# * * *\n",
    "# * * * *\n",
    "# * * *\n",
    "# * *\n",
    "# *\n",
    "\n",
    "for i in range(0,8):\n",
    "    if(i>=0 and i<8//2):\n",
    "        for i in range(0,i+1):\n",
    "            print('*',end=\" \")\n",
    "    else:\n",
    "        for i in range(8,i+1,-1):\n",
    "            print('*',end=\" \")\n",
    "    print(\" \")"
   ]
  },
  {
   "cell_type": "code",
   "execution_count": 33,
   "id": "92650634",
   "metadata": {},
   "outputs": [
    {
     "name": "stdout",
     "output_type": "stream",
     "text": [
      "1\n",
      "*  \n",
      "2\n",
      "* *  \n",
      "3\n",
      "* * *  \n",
      "4\n",
      "* * * *  \n",
      "5\n",
      "* * * * *  \n"
     ]
    }
   ],
   "source": [
    "# 1\n",
    "# *\n",
    "# 2\n",
    "# * *\n",
    "# 3\n",
    "# * * *\n",
    "# 4\n",
    "# * * * *\n",
    "# 5\n",
    "# * * * * *\n",
    "\n",
    "\n",
    "\n",
    "\n",
    "\n",
    "for rows in range(1,6):\n",
    "    print(rows)\n",
    "    for column in range(1,rows+1):        \n",
    "        print('*',end=\" \")\n",
    "    \n",
    "    print(\" \")"
   ]
  },
  {
   "cell_type": "code",
   "execution_count": 57,
   "id": "18042a89",
   "metadata": {},
   "outputs": [
    {
     "name": "stdout",
     "output_type": "stream",
     "text": [
      "1 * \n",
      "2 **** \n",
      "3 ********* \n",
      "4 **************** \n",
      "5 ************************* \n"
     ]
    }
   ],
   "source": [
    "#1 *\n",
    "#2 ****\n",
    "#3 *********\n",
    "#4 **....*\n",
    "\n",
    "for rows in range(1,6):\n",
    "    print(rows,end=\" \")\n",
    "    for column in range(1,rows+1):\n",
    "        #for i in range(0,rows):\n",
    "        print(rows*'*',end=\"\")\n",
    "    \n",
    "    print(\" \")\n"
   ]
  },
  {
   "cell_type": "code",
   "execution_count": 66,
   "id": "23cd7a44",
   "metadata": {},
   "outputs": [
    {
     "data": {
      "text/plain": [
       "{70, 80}"
      ]
     },
     "execution_count": 66,
     "metadata": {},
     "output_type": "execute_result"
    }
   ],
   "source": [
    "mysetA={10,20,30,40}\n",
    "mysetB={30,70,80}\n",
    "mysetB.difference(mysetA)"
   ]
  },
  {
   "cell_type": "code",
   "execution_count": 59,
   "id": "33f5d366",
   "metadata": {},
   "outputs": [
    {
     "data": {
      "text/plain": [
       "False"
      ]
     },
     "execution_count": 59,
     "metadata": {},
     "output_type": "execute_result"
    }
   ],
   "source": [
    "mysetA={10,20,30,40}\n",
    "mysetB={30,70,80}\n",
    "mysetA.issuperset(mysetB)"
   ]
  },
  {
   "cell_type": "code",
   "execution_count": 61,
   "id": "218c21e8",
   "metadata": {},
   "outputs": [
    {
     "data": {
      "text/plain": [
       "False"
      ]
     },
     "execution_count": 61,
     "metadata": {},
     "output_type": "execute_result"
    }
   ],
   "source": [
    "mysetA={10,20,30,40}\n",
    "mysetB={30,70,80}\n",
    "mysetA.isdisjoint(mysetB)"
   ]
  },
  {
   "cell_type": "code",
   "execution_count": 62,
   "id": "a4489ebb",
   "metadata": {},
   "outputs": [],
   "source": [
    "mysetA={10,20,30,40}\n",
    "mysetB={30,70,80}\n",
    "mysetA.symmetric_difference_update(mysetB)"
   ]
  },
  {
   "cell_type": "code",
   "execution_count": 63,
   "id": "54a88dc3",
   "metadata": {},
   "outputs": [
    {
     "data": {
      "text/plain": [
       "{10, 20, 40, 70, 80}"
      ]
     },
     "execution_count": 63,
     "metadata": {},
     "output_type": "execute_result"
    }
   ],
   "source": [
    "mysetA"
   ]
  },
  {
   "cell_type": "code",
   "execution_count": 64,
   "id": "c7302e65",
   "metadata": {},
   "outputs": [
    {
     "data": {
      "text/plain": [
       "{30, 70, 80}"
      ]
     },
     "execution_count": 64,
     "metadata": {},
     "output_type": "execute_result"
    }
   ],
   "source": [
    "mysetB"
   ]
  },
  {
   "cell_type": "code",
   "execution_count": null,
   "id": "d0a06e34",
   "metadata": {},
   "outputs": [],
   "source": []
  }
 ],
 "metadata": {
  "kernelspec": {
   "display_name": "Python 3 (ipykernel)",
   "language": "python",
   "name": "python3"
  },
  "language_info": {
   "codemirror_mode": {
    "name": "ipython",
    "version": 3
   },
   "file_extension": ".py",
   "mimetype": "text/x-python",
   "name": "python",
   "nbconvert_exporter": "python",
   "pygments_lexer": "ipython3",
   "version": "3.9.12"
  }
 },
 "nbformat": 4,
 "nbformat_minor": 5
}
