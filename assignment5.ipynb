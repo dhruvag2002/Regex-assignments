{
 "cells": [
  {
   "cell_type": "code",
   "execution_count": 21,
   "id": "07ee767d",
   "metadata": {},
   "outputs": [
    {
     "name": "stdout",
     "output_type": "stream",
     "text": [
      "Enter first number: 34\n",
      "Enter second number: 17\n",
      "LCM is: 34\n"
     ]
    }
   ],
   "source": [
    "# lcm of two number\n",
    "a=input(\"Enter first number: \")\n",
    "b=input(\"Enter second number: \")\n",
    "a=int(a)\n",
    "b=int(b)\n",
    "c=max(a,b)\n",
    "while (c%b!=0 or c%a!=0):\n",
    "    c+=1\n",
    "print(\"LCM is:\",c)  "
   ]
  },
  {
   "cell_type": "code",
   "execution_count": 22,
   "id": "5fa089f5",
   "metadata": {},
   "outputs": [
    {
     "name": "stdout",
     "output_type": "stream",
     "text": [
      "Enter first number: 3\n",
      "Enter second number: 6\n",
      "HCF is: 3\n"
     ]
    }
   ],
   "source": [
    "#HCF of two number\n",
    "a=input(\"Enter first number: \")\n",
    "b=input(\"Enter second number: \")\n",
    "a=int(a)\n",
    "b=int(b)\n",
    "c=min(a,b)\n",
    "while (b%c!=0 or a%c!=0):\n",
    "    c=c-1\n",
    "print(\"HCF is:\",c)  "
   ]
  },
  {
   "cell_type": "code",
   "execution_count": 24,
   "id": "336b4bb0",
   "metadata": {},
   "outputs": [
    {
     "name": "stdout",
     "output_type": "stream",
     "text": [
      "40 10\n"
     ]
    }
   ],
   "source": [
    "a=10\n",
    "b=40\n",
    "a=a+b\n",
    "b=a-b\n",
    "a=a-b\n",
    "print(a,b)"
   ]
  },
  {
   "cell_type": "code",
   "execution_count": null,
   "id": "094a4ef2",
   "metadata": {},
   "outputs": [],
   "source": []
  }
 ],
 "metadata": {
  "kernelspec": {
   "display_name": "Python 3 (ipykernel)",
   "language": "python",
   "name": "python3"
  },
  "language_info": {
   "codemirror_mode": {
    "name": "ipython",
    "version": 3
   },
   "file_extension": ".py",
   "mimetype": "text/x-python",
   "name": "python",
   "nbconvert_exporter": "python",
   "pygments_lexer": "ipython3",
   "version": "3.9.12"
  }
 },
 "nbformat": 4,
 "nbformat_minor": 5
}
