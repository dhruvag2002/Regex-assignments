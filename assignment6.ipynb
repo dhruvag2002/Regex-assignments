{
 "cells": [
  {
   "cell_type": "code",
   "execution_count": 1,
   "id": "ed745300",
   "metadata": {},
   "outputs": [
    {
     "name": "stdout",
     "output_type": "stream",
     "text": [
      "Enter the input: dhruv\n",
      "dhruving\n"
     ]
    }
   ],
   "source": [
    "#create a function and take a input as a parameter if the string on the index position 3 we have a vowel then add the \"ing\"\n",
    "#on the last of string if not a vowel on 3rd index then starting ma \"e\" lagana h and last ma \"y\"\n",
    "\n",
    "def greeting(dd):\n",
    "    if(dd[3]=='a' or dd[3]=='e' or dd[3]=='i' or dd[3]=='o' or dd[3]=='u' ):\n",
    "        dd=dd+\"ing\"\n",
    "    else:\n",
    "        dd=\"e\"+dd+\"y\"\n",
    "    return dd;\n",
    "    \n",
    "\n",
    "x=input(\"Enter the input: \")\n",
    "print(greeting(x))"
   ]
  },
  {
   "cell_type": "code",
   "execution_count": null,
   "id": "dfe43e5b",
   "metadata": {},
   "outputs": [],
   "source": []
  }
 ],
 "metadata": {
  "kernelspec": {
   "display_name": "Python 3 (ipykernel)",
   "language": "python",
   "name": "python3"
  },
  "language_info": {
   "codemirror_mode": {
    "name": "ipython",
    "version": 3
   },
   "file_extension": ".py",
   "mimetype": "text/x-python",
   "name": "python",
   "nbconvert_exporter": "python",
   "pygments_lexer": "ipython3",
   "version": "3.9.12"
  }
 },
 "nbformat": 4,
 "nbformat_minor": 5
}
